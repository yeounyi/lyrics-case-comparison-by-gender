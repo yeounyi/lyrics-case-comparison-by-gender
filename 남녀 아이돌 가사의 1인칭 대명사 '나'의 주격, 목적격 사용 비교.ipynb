{
 "cells": [
  {
   "cell_type": "markdown",
   "id": "78934395",
   "metadata": {},
   "source": [
    "## 남녀 아이돌 가사의 1인칭 대명사 '나'의 주격, 목적격 사용 비교"
   ]
  },
  {
   "cell_type": "code",
   "execution_count": 1,
   "id": "da38f1e6",
   "metadata": {},
   "outputs": [],
   "source": [
    "import pandas as pd\n",
    "from tqdm import tqdm \n",
    "tqdm.pandas()\n",
    "import numpy as np\n",
    "import re"
   ]
  },
  {
   "cell_type": "code",
   "execution_count": 40,
   "id": "484d09f1",
   "metadata": {},
   "outputs": [
    {
     "data": {
      "text/html": [
       "<div>\n",
       "<style scoped>\n",
       "    .dataframe tbody tr th:only-of-type {\n",
       "        vertical-align: middle;\n",
       "    }\n",
       "\n",
       "    .dataframe tbody tr th {\n",
       "        vertical-align: top;\n",
       "    }\n",
       "\n",
       "    .dataframe thead th {\n",
       "        text-align: right;\n",
       "    }\n",
       "</style>\n",
       "<table border=\"1\" class=\"dataframe\">\n",
       "  <thead>\n",
       "    <tr style=\"text-align: right;\">\n",
       "      <th></th>\n",
       "      <th>artist</th>\n",
       "      <th>lyrics</th>\n",
       "    </tr>\n",
       "  </thead>\n",
       "  <tbody>\n",
       "    <tr>\n",
       "      <th>0</th>\n",
       "      <td>서태지와 아이들</td>\n",
       "      <td>갈수 없는 곳이란 우리에겐 없어&lt;br&gt;보이는 길밖에도 세상은 있어&lt;br&gt;언제나 식지...</td>\n",
       "    </tr>\n",
       "    <tr>\n",
       "      <th>1</th>\n",
       "      <td>서태지와 아이들</td>\n",
       "      <td>항상 난 지나치기만 했네&lt;br&gt;이젠 난 미련없이 끝내&lt;br&gt;됐어 찾아냈어 난&lt;br&gt;...</td>\n",
       "    </tr>\n",
       "    <tr>\n",
       "      <th>2</th>\n",
       "      <td>서태지와 아이들</td>\n",
       "      <td>난 알아요이밤이 흐르고 흐르면 누군가가&lt;br&gt;나를 떠나버려야 한다는 그사실을&lt;br&gt;...</td>\n",
       "    </tr>\n",
       "    <tr>\n",
       "      <th>3</th>\n",
       "      <td>서태지와 아이들</td>\n",
       "      <td>너와 함께 한 시간 속에서-&lt;br&gt; &lt;br&gt;너를 처음 만난 그때를&lt;br&gt;자세하게 말...</td>\n",
       "    </tr>\n",
       "    <tr>\n",
       "      <th>4</th>\n",
       "      <td>서태지와 아이들</td>\n",
       "      <td>니가 아무리 지금 날 좋아한다고 해도&lt;br&gt;그건 지금뿐일지도 몰라&lt;br&gt;왜냐하면 어...</td>\n",
       "    </tr>\n",
       "  </tbody>\n",
       "</table>\n",
       "</div>"
      ],
      "text/plain": [
       "     artist                                             lyrics\n",
       "0  서태지와 아이들  갈수 없는 곳이란 우리에겐 없어<br>보이는 길밖에도 세상은 있어<br>언제나 식지...\n",
       "1  서태지와 아이들  항상 난 지나치기만 했네<br>이젠 난 미련없이 끝내<br>됐어 찾아냈어 난<br>...\n",
       "2  서태지와 아이들  난 알아요이밤이 흐르고 흐르면 누군가가<br>나를 떠나버려야 한다는 그사실을<br>...\n",
       "3  서태지와 아이들  너와 함께 한 시간 속에서-<br> <br>너를 처음 만난 그때를<br>자세하게 말...\n",
       "4  서태지와 아이들  니가 아무리 지금 날 좋아한다고 해도<br>그건 지금뿐일지도 몰라<br>왜냐하면 어..."
      ]
     },
     "execution_count": 40,
     "metadata": {},
     "output_type": "execute_result"
    }
   ],
   "source": [
    "# 출처: https://github.com/BLUENCE/M5_Idol_lyrics/blob/master/Data/song_data_yoon_ver06.csv\n",
    "df = pd.read_csv('lyrics.csv', usecols=['artist','lyrics'])\n",
    "df.head()"
   ]
  },
  {
   "cell_type": "code",
   "execution_count": 41,
   "id": "ef76dcdf",
   "metadata": {},
   "outputs": [
    {
     "name": "stderr",
     "output_type": "stream",
     "text": [
      "100%|████████████████████████████████████████████████████████████████████████| 9548/9548 [00:00<00:00, 64398.26it/s]\n"
     ]
    }
   ],
   "source": [
    "# 전처리 \n",
    "df.lyrics = df.lyrics.progress_apply(lambda x: x.replace('<br>',' ').lower())"
   ]
  },
  {
   "cell_type": "code",
   "execution_count": 42,
   "id": "9240f59b",
   "metadata": {},
   "outputs": [
    {
     "data": {
      "text/html": [
       "<div>\n",
       "<style scoped>\n",
       "    .dataframe tbody tr th:only-of-type {\n",
       "        vertical-align: middle;\n",
       "    }\n",
       "\n",
       "    .dataframe tbody tr th {\n",
       "        vertical-align: top;\n",
       "    }\n",
       "\n",
       "    .dataframe thead th {\n",
       "        text-align: right;\n",
       "    }\n",
       "</style>\n",
       "<table border=\"1\" class=\"dataframe\">\n",
       "  <thead>\n",
       "    <tr style=\"text-align: right;\">\n",
       "      <th></th>\n",
       "      <th>artist</th>\n",
       "      <th>gender</th>\n",
       "    </tr>\n",
       "  </thead>\n",
       "  <tbody>\n",
       "    <tr>\n",
       "      <th>0</th>\n",
       "      <td>서태지와 아이들</td>\n",
       "      <td>남</td>\n",
       "    </tr>\n",
       "    <tr>\n",
       "      <th>1</th>\n",
       "      <td>더 블루</td>\n",
       "      <td>남</td>\n",
       "    </tr>\n",
       "    <tr>\n",
       "      <th>2</th>\n",
       "      <td>잼</td>\n",
       "      <td>혼</td>\n",
       "    </tr>\n",
       "    <tr>\n",
       "      <th>3</th>\n",
       "      <td>에스오에스</td>\n",
       "      <td>여</td>\n",
       "    </tr>\n",
       "    <tr>\n",
       "      <th>4</th>\n",
       "      <td>솔리드</td>\n",
       "      <td>남</td>\n",
       "    </tr>\n",
       "  </tbody>\n",
       "</table>\n",
       "</div>"
      ],
      "text/plain": [
       "     artist gender\n",
       "0  서태지와 아이들      남\n",
       "1      더 블루      남\n",
       "2         잼      혼\n",
       "3     에스오에스      여\n",
       "4       솔리드      남"
      ]
     },
     "execution_count": 42,
     "metadata": {},
     "output_type": "execute_result"
    }
   ],
   "source": [
    "# 출처: https://github.com/BLUENCE/M5_Idol_lyrics/blob/master/Data/artist_info_ver04.csv\n",
    "adf = pd.read_csv('artists.csv', usecols=['artist','gender'])\n",
    "adf.head()"
   ]
  },
  {
   "cell_type": "code",
   "execution_count": 43,
   "id": "9d922078",
   "metadata": {},
   "outputs": [
    {
     "data": {
      "text/html": [
       "<div>\n",
       "<style scoped>\n",
       "    .dataframe tbody tr th:only-of-type {\n",
       "        vertical-align: middle;\n",
       "    }\n",
       "\n",
       "    .dataframe tbody tr th {\n",
       "        vertical-align: top;\n",
       "    }\n",
       "\n",
       "    .dataframe thead th {\n",
       "        text-align: right;\n",
       "    }\n",
       "</style>\n",
       "<table border=\"1\" class=\"dataframe\">\n",
       "  <thead>\n",
       "    <tr style=\"text-align: right;\">\n",
       "      <th></th>\n",
       "      <th>artist</th>\n",
       "      <th>lyrics</th>\n",
       "      <th>gender</th>\n",
       "    </tr>\n",
       "  </thead>\n",
       "  <tbody>\n",
       "    <tr>\n",
       "      <th>0</th>\n",
       "      <td>서태지와 아이들</td>\n",
       "      <td>갈수 없는 곳이란 우리에겐 없어 보이는 길밖에도 세상은 있어 언제나 식지않는 마음이...</td>\n",
       "      <td>남</td>\n",
       "    </tr>\n",
       "    <tr>\n",
       "      <th>1</th>\n",
       "      <td>서태지와 아이들</td>\n",
       "      <td>항상 난 지나치기만 했네 이젠 난 미련없이 끝내 됐어 찾아냈어 난 모두가 또 나를 ...</td>\n",
       "      <td>남</td>\n",
       "    </tr>\n",
       "    <tr>\n",
       "      <th>2</th>\n",
       "      <td>서태지와 아이들</td>\n",
       "      <td>난 알아요이밤이 흐르고 흐르면 누군가가 나를 떠나버려야 한다는 그사실을 그 이유를 ...</td>\n",
       "      <td>남</td>\n",
       "    </tr>\n",
       "    <tr>\n",
       "      <th>3</th>\n",
       "      <td>서태지와 아이들</td>\n",
       "      <td>너와 함께 한 시간 속에서-   너를 처음 만난 그때를 자세하게 말해 줄 수는 없지...</td>\n",
       "      <td>남</td>\n",
       "    </tr>\n",
       "    <tr>\n",
       "      <th>4</th>\n",
       "      <td>서태지와 아이들</td>\n",
       "      <td>니가 아무리 지금 날 좋아한다고 해도 그건 지금뿐일지도 몰라 왜냐하면 어 그건 말야...</td>\n",
       "      <td>남</td>\n",
       "    </tr>\n",
       "    <tr>\n",
       "      <th>...</th>\n",
       "      <td>...</td>\n",
       "      <td>...</td>\n",
       "      <td>...</td>\n",
       "    </tr>\n",
       "    <tr>\n",
       "      <th>9543</th>\n",
       "      <td>프로미스나인</td>\n",
       "      <td>한번 쯤 그려왔던 그 날이 올까 소중히 바래왔던 내 맘 넌 알까 오 빛나는 땀방울도...</td>\n",
       "      <td>여</td>\n",
       "    </tr>\n",
       "    <tr>\n",
       "      <th>9544</th>\n",
       "      <td>프로미스나인</td>\n",
       "      <td>love me take me kiss me get me closer 숨길 수가 없어...</td>\n",
       "      <td>여</td>\n",
       "    </tr>\n",
       "    <tr>\n",
       "      <th>9545</th>\n",
       "      <td>프로미스나인</td>\n",
       "      <td>어떡해 너 때문에 내 머린 지끈지끈 지끈거려 왜 i feel like woo hu ...</td>\n",
       "      <td>여</td>\n",
       "    </tr>\n",
       "    <tr>\n",
       "      <th>9546</th>\n",
       "      <td>프로미스나인</td>\n",
       "      <td>always wanna be with you 작고 작은 나의 고백 always wa...</td>\n",
       "      <td>여</td>\n",
       "    </tr>\n",
       "    <tr>\n",
       "      <th>9547</th>\n",
       "      <td>프로미스나인</td>\n",
       "      <td>빙글빙글 빙그르 빙그르 toc toc 빙글빙글 시계의 바늘이 toc toc 빙글빙글...</td>\n",
       "      <td>여</td>\n",
       "    </tr>\n",
       "  </tbody>\n",
       "</table>\n",
       "<p>9189 rows × 3 columns</p>\n",
       "</div>"
      ],
      "text/plain": [
       "        artist                                             lyrics gender\n",
       "0     서태지와 아이들  갈수 없는 곳이란 우리에겐 없어 보이는 길밖에도 세상은 있어 언제나 식지않는 마음이...      남\n",
       "1     서태지와 아이들  항상 난 지나치기만 했네 이젠 난 미련없이 끝내 됐어 찾아냈어 난 모두가 또 나를 ...      남\n",
       "2     서태지와 아이들  난 알아요이밤이 흐르고 흐르면 누군가가 나를 떠나버려야 한다는 그사실을 그 이유를 ...      남\n",
       "3     서태지와 아이들  너와 함께 한 시간 속에서-   너를 처음 만난 그때를 자세하게 말해 줄 수는 없지...      남\n",
       "4     서태지와 아이들  니가 아무리 지금 날 좋아한다고 해도 그건 지금뿐일지도 몰라 왜냐하면 어 그건 말야...      남\n",
       "...        ...                                                ...    ...\n",
       "9543    프로미스나인  한번 쯤 그려왔던 그 날이 올까 소중히 바래왔던 내 맘 넌 알까 오 빛나는 땀방울도...      여\n",
       "9544    프로미스나인  love me take me kiss me get me closer 숨길 수가 없어...      여\n",
       "9545    프로미스나인  어떡해 너 때문에 내 머린 지끈지끈 지끈거려 왜 i feel like woo hu ...      여\n",
       "9546    프로미스나인  always wanna be with you 작고 작은 나의 고백 always wa...      여\n",
       "9547    프로미스나인  빙글빙글 빙그르 빙그르 toc toc 빙글빙글 시계의 바늘이 toc toc 빙글빙글...      여\n",
       "\n",
       "[9189 rows x 3 columns]"
      ]
     },
     "execution_count": 43,
     "metadata": {},
     "output_type": "execute_result"
    }
   ],
   "source": [
    "# 가사 데이터에 가수 성별 데이터 추가 후 혼성 그룹의 데이터는 제외\n",
    "df = df.join(adf.set_index('artist'), on='artist').query('gender!=\"혼\"')\n",
    "df"
   ]
  },
  {
   "cell_type": "code",
   "execution_count": null,
   "id": "a89a93dc",
   "metadata": {},
   "outputs": [],
   "source": []
  },
  {
   "cell_type": "code",
   "execution_count": 44,
   "id": "ae69117d",
   "metadata": {},
   "outputs": [
    {
     "name": "stderr",
     "output_type": "stream",
     "text": [
      "100%|████████████████████████████████████████████████████████████████████████| 9189/9189 [00:00<00:00, 55490.79it/s]\n"
     ]
    }
   ],
   "source": [
    "objs = [' 나를 ', ' 저를 ', ' me '] # 1인칭 대명사의 목적격 \n",
    "subjs = [' 내가 ', ' 제가 ', ' i '] # 1인칭 대명사의 주격 \n",
    "\n",
    "def count_case(lyrics):\n",
    "    obj_count = 0\n",
    "    subj_count = 0\n",
    "    for obj in objs:\n",
    "        obj_count += lyrics.count(obj)\n",
    "    for subj in subjs:\n",
    "        subj_count += lyrics.count(subj)\n",
    "    total = obj_count + subj_count\n",
    "    if total == 0:\n",
    "        return 0,0\n",
    "    else:\n",
    "        return obj_count/total, subj_count/total\n",
    "\n",
    "df[['obj_ratio', 'subj_ratio']] = df.lyrics.progress_apply(lambda x: count_case(x)).tolist()\n"
   ]
  },
  {
   "cell_type": "code",
   "execution_count": 45,
   "id": "55466350",
   "metadata": {},
   "outputs": [
    {
     "data": {
      "text/html": [
       "<div>\n",
       "<style scoped>\n",
       "    .dataframe tbody tr th:only-of-type {\n",
       "        vertical-align: middle;\n",
       "    }\n",
       "\n",
       "    .dataframe tbody tr th {\n",
       "        vertical-align: top;\n",
       "    }\n",
       "\n",
       "    .dataframe thead th {\n",
       "        text-align: right;\n",
       "    }\n",
       "</style>\n",
       "<table border=\"1\" class=\"dataframe\">\n",
       "  <thead>\n",
       "    <tr style=\"text-align: right;\">\n",
       "      <th></th>\n",
       "      <th>artist</th>\n",
       "      <th>lyrics</th>\n",
       "      <th>gender</th>\n",
       "      <th>obj_ratio</th>\n",
       "      <th>subj_ratio</th>\n",
       "    </tr>\n",
       "  </thead>\n",
       "  <tbody>\n",
       "    <tr>\n",
       "      <th>0</th>\n",
       "      <td>서태지와 아이들</td>\n",
       "      <td>갈수 없는 곳이란 우리에겐 없어 보이는 길밖에도 세상은 있어 언제나 식지않는 마음이...</td>\n",
       "      <td>남</td>\n",
       "      <td>0.000000</td>\n",
       "      <td>0.000000</td>\n",
       "    </tr>\n",
       "    <tr>\n",
       "      <th>1</th>\n",
       "      <td>서태지와 아이들</td>\n",
       "      <td>항상 난 지나치기만 했네 이젠 난 미련없이 끝내 됐어 찾아냈어 난 모두가 또 나를 ...</td>\n",
       "      <td>남</td>\n",
       "      <td>1.000000</td>\n",
       "      <td>0.000000</td>\n",
       "    </tr>\n",
       "    <tr>\n",
       "      <th>2</th>\n",
       "      <td>서태지와 아이들</td>\n",
       "      <td>난 알아요이밤이 흐르고 흐르면 누군가가 나를 떠나버려야 한다는 그사실을 그 이유를 ...</td>\n",
       "      <td>남</td>\n",
       "      <td>0.500000</td>\n",
       "      <td>0.500000</td>\n",
       "    </tr>\n",
       "    <tr>\n",
       "      <th>3</th>\n",
       "      <td>서태지와 아이들</td>\n",
       "      <td>너와 함께 한 시간 속에서-   너를 처음 만난 그때를 자세하게 말해 줄 수는 없지...</td>\n",
       "      <td>남</td>\n",
       "      <td>0.000000</td>\n",
       "      <td>1.000000</td>\n",
       "    </tr>\n",
       "    <tr>\n",
       "      <th>4</th>\n",
       "      <td>서태지와 아이들</td>\n",
       "      <td>니가 아무리 지금 날 좋아한다고 해도 그건 지금뿐일지도 몰라 왜냐하면 어 그건 말야...</td>\n",
       "      <td>남</td>\n",
       "      <td>0.000000</td>\n",
       "      <td>0.000000</td>\n",
       "    </tr>\n",
       "    <tr>\n",
       "      <th>...</th>\n",
       "      <td>...</td>\n",
       "      <td>...</td>\n",
       "      <td>...</td>\n",
       "      <td>...</td>\n",
       "      <td>...</td>\n",
       "    </tr>\n",
       "    <tr>\n",
       "      <th>9543</th>\n",
       "      <td>프로미스나인</td>\n",
       "      <td>한번 쯤 그려왔던 그 날이 올까 소중히 바래왔던 내 맘 넌 알까 오 빛나는 땀방울도...</td>\n",
       "      <td>여</td>\n",
       "      <td>0.500000</td>\n",
       "      <td>0.500000</td>\n",
       "    </tr>\n",
       "    <tr>\n",
       "      <th>9544</th>\n",
       "      <td>프로미스나인</td>\n",
       "      <td>love me take me kiss me get me closer 숨길 수가 없어...</td>\n",
       "      <td>여</td>\n",
       "      <td>1.000000</td>\n",
       "      <td>0.000000</td>\n",
       "    </tr>\n",
       "    <tr>\n",
       "      <th>9545</th>\n",
       "      <td>프로미스나인</td>\n",
       "      <td>어떡해 너 때문에 내 머린 지끈지끈 지끈거려 왜 i feel like woo hu ...</td>\n",
       "      <td>여</td>\n",
       "      <td>0.333333</td>\n",
       "      <td>0.666667</td>\n",
       "    </tr>\n",
       "    <tr>\n",
       "      <th>9546</th>\n",
       "      <td>프로미스나인</td>\n",
       "      <td>always wanna be with you 작고 작은 나의 고백 always wa...</td>\n",
       "      <td>여</td>\n",
       "      <td>0.000000</td>\n",
       "      <td>0.000000</td>\n",
       "    </tr>\n",
       "    <tr>\n",
       "      <th>9547</th>\n",
       "      <td>프로미스나인</td>\n",
       "      <td>빙글빙글 빙그르 빙그르 toc toc 빙글빙글 시계의 바늘이 toc toc 빙글빙글...</td>\n",
       "      <td>여</td>\n",
       "      <td>1.000000</td>\n",
       "      <td>0.000000</td>\n",
       "    </tr>\n",
       "  </tbody>\n",
       "</table>\n",
       "<p>9189 rows × 5 columns</p>\n",
       "</div>"
      ],
      "text/plain": [
       "        artist                                             lyrics gender  \\\n",
       "0     서태지와 아이들  갈수 없는 곳이란 우리에겐 없어 보이는 길밖에도 세상은 있어 언제나 식지않는 마음이...      남   \n",
       "1     서태지와 아이들  항상 난 지나치기만 했네 이젠 난 미련없이 끝내 됐어 찾아냈어 난 모두가 또 나를 ...      남   \n",
       "2     서태지와 아이들  난 알아요이밤이 흐르고 흐르면 누군가가 나를 떠나버려야 한다는 그사실을 그 이유를 ...      남   \n",
       "3     서태지와 아이들  너와 함께 한 시간 속에서-   너를 처음 만난 그때를 자세하게 말해 줄 수는 없지...      남   \n",
       "4     서태지와 아이들  니가 아무리 지금 날 좋아한다고 해도 그건 지금뿐일지도 몰라 왜냐하면 어 그건 말야...      남   \n",
       "...        ...                                                ...    ...   \n",
       "9543    프로미스나인  한번 쯤 그려왔던 그 날이 올까 소중히 바래왔던 내 맘 넌 알까 오 빛나는 땀방울도...      여   \n",
       "9544    프로미스나인  love me take me kiss me get me closer 숨길 수가 없어...      여   \n",
       "9545    프로미스나인  어떡해 너 때문에 내 머린 지끈지끈 지끈거려 왜 i feel like woo hu ...      여   \n",
       "9546    프로미스나인  always wanna be with you 작고 작은 나의 고백 always wa...      여   \n",
       "9547    프로미스나인  빙글빙글 빙그르 빙그르 toc toc 빙글빙글 시계의 바늘이 toc toc 빙글빙글...      여   \n",
       "\n",
       "      obj_ratio  subj_ratio  \n",
       "0      0.000000    0.000000  \n",
       "1      1.000000    0.000000  \n",
       "2      0.500000    0.500000  \n",
       "3      0.000000    1.000000  \n",
       "4      0.000000    0.000000  \n",
       "...         ...         ...  \n",
       "9543   0.500000    0.500000  \n",
       "9544   1.000000    0.000000  \n",
       "9545   0.333333    0.666667  \n",
       "9546   0.000000    0.000000  \n",
       "9547   1.000000    0.000000  \n",
       "\n",
       "[9189 rows x 5 columns]"
      ]
     },
     "execution_count": 45,
     "metadata": {},
     "output_type": "execute_result"
    }
   ],
   "source": [
    "df"
   ]
  },
  {
   "cell_type": "code",
   "execution_count": 49,
   "id": "ff384794",
   "metadata": {},
   "outputs": [
    {
     "data": {
      "text/html": [
       "<div>\n",
       "<style scoped>\n",
       "    .dataframe tbody tr th:only-of-type {\n",
       "        vertical-align: middle;\n",
       "    }\n",
       "\n",
       "    .dataframe tbody tr th {\n",
       "        vertical-align: top;\n",
       "    }\n",
       "\n",
       "    .dataframe thead th {\n",
       "        text-align: right;\n",
       "    }\n",
       "</style>\n",
       "<table border=\"1\" class=\"dataframe\">\n",
       "  <thead>\n",
       "    <tr style=\"text-align: right;\">\n",
       "      <th></th>\n",
       "      <th>artist</th>\n",
       "      <th>lyrics</th>\n",
       "      <th>obj_ratio</th>\n",
       "      <th>subj_ratio</th>\n",
       "    </tr>\n",
       "    <tr>\n",
       "      <th>gender</th>\n",
       "      <th></th>\n",
       "      <th></th>\n",
       "      <th></th>\n",
       "      <th></th>\n",
       "    </tr>\n",
       "  </thead>\n",
       "  <tbody>\n",
       "    <tr>\n",
       "      <th>남</th>\n",
       "      <td>5855</td>\n",
       "      <td>5855</td>\n",
       "      <td>5855</td>\n",
       "      <td>5855</td>\n",
       "    </tr>\n",
       "    <tr>\n",
       "      <th>여</th>\n",
       "      <td>3334</td>\n",
       "      <td>3334</td>\n",
       "      <td>3334</td>\n",
       "      <td>3334</td>\n",
       "    </tr>\n",
       "  </tbody>\n",
       "</table>\n",
       "</div>"
      ],
      "text/plain": [
       "        artist  lyrics  obj_ratio  subj_ratio\n",
       "gender                                       \n",
       "남         5855    5855       5855        5855\n",
       "여         3334    3334       3334        3334"
      ]
     },
     "execution_count": 49,
     "metadata": {},
     "output_type": "execute_result"
    }
   ],
   "source": [
    "df.groupby('gender').count()"
   ]
  },
  {
   "cell_type": "code",
   "execution_count": 52,
   "id": "e60871fc",
   "metadata": {},
   "outputs": [
    {
     "data": {
      "text/html": [
       "<div>\n",
       "<style scoped>\n",
       "    .dataframe tbody tr th:only-of-type {\n",
       "        vertical-align: middle;\n",
       "    }\n",
       "\n",
       "    .dataframe tbody tr th {\n",
       "        vertical-align: top;\n",
       "    }\n",
       "\n",
       "    .dataframe thead th {\n",
       "        text-align: right;\n",
       "    }\n",
       "</style>\n",
       "<table border=\"1\" class=\"dataframe\">\n",
       "  <thead>\n",
       "    <tr style=\"text-align: right;\">\n",
       "      <th></th>\n",
       "      <th>artist</th>\n",
       "      <th>lyrics</th>\n",
       "      <th>obj_ratio</th>\n",
       "      <th>subj_ratio</th>\n",
       "    </tr>\n",
       "    <tr>\n",
       "      <th>gender</th>\n",
       "      <th></th>\n",
       "      <th></th>\n",
       "      <th></th>\n",
       "      <th></th>\n",
       "    </tr>\n",
       "  </thead>\n",
       "  <tbody>\n",
       "    <tr>\n",
       "      <th>남</th>\n",
       "      <td>3000</td>\n",
       "      <td>3000</td>\n",
       "      <td>3000</td>\n",
       "      <td>3000</td>\n",
       "    </tr>\n",
       "    <tr>\n",
       "      <th>여</th>\n",
       "      <td>3000</td>\n",
       "      <td>3000</td>\n",
       "      <td>3000</td>\n",
       "      <td>3000</td>\n",
       "    </tr>\n",
       "  </tbody>\n",
       "</table>\n",
       "</div>"
      ],
      "text/plain": [
       "        artist  lyrics  obj_ratio  subj_ratio\n",
       "gender                                       \n",
       "남         3000    3000       3000        3000\n",
       "여         3000    3000       3000        3000"
      ]
     },
     "execution_count": 52,
     "metadata": {},
     "output_type": "execute_result"
    }
   ],
   "source": [
    "# 남녀 아이돌 모두 표본 개수 3000개로 샘플링 \n",
    "sampled_df = pd.concat([df.query('gender==\"여\"').sample(3000), df.query('gender==\"남\"').sample(3000)])\n",
    "sampled_df.groupby('gender').count()"
   ]
  },
  {
   "cell_type": "markdown",
   "id": "0e6d0895",
   "metadata": {},
   "source": [
    "### (1) 성별에 따른 1인칭 대명사 주격 사용 비교 "
   ]
  },
  {
   "cell_type": "code",
   "execution_count": 55,
   "id": "bcd0d426",
   "metadata": {},
   "outputs": [
    {
     "data": {
      "text/plain": [
       "gender\n",
       "남    0.501960\n",
       "여    0.432303\n",
       "Name: subj_ratio, dtype: float64"
      ]
     },
     "execution_count": 55,
     "metadata": {},
     "output_type": "execute_result"
    }
   ],
   "source": [
    "# 샘플링된 데이터에서 성별에 따른 1인칭 대명사 주격 사용 비율의 평균 \n",
    "sampled_df.groupby('gender')['subj_ratio'].mean()"
   ]
  },
  {
   "cell_type": "code",
   "execution_count": 58,
   "id": "78e4dae9",
   "metadata": {},
   "outputs": [],
   "source": [
    "female_subj = sampled_df.query('gender==\"여\"').subj_ratio.tolist()\n",
    "male_subj = sampled_df.query('gender==\"남\"').subj_ratio.tolist()"
   ]
  },
  {
   "cell_type": "code",
   "execution_count": null,
   "id": "3ed9e0d9",
   "metadata": {},
   "outputs": [],
   "source": [
    "# 표본 개수가 3000개이므로 정규성 검정은 패스 "
   ]
  },
  {
   "cell_type": "code",
   "execution_count": 64,
   "id": "2b49d452",
   "metadata": {},
   "outputs": [
    {
     "name": "stdout",
     "output_type": "stream",
     "text": [
      "LeveneResult(statistic=0.5877353427046988, pvalue=0.4433263581158554)\n",
      "BartlettResult(statistic=0.012169200234786768, pvalue=0.9121602768530819)\n"
     ]
    }
   ],
   "source": [
    "# 등분산성 확인\n",
    "from scipy.stats import levene\n",
    "print(levene(female_subj, male_subj))\n",
    "\n",
    "from scipy.stats import bartlett\n",
    "print(bartlett(female_subj, male_subj))\n",
    "\n",
    "# p-value가 0.05보다 커서 등분산성이 있다고 할 수 있다."
   ]
  },
  {
   "cell_type": "code",
   "execution_count": 65,
   "id": "ca9efe51",
   "metadata": {},
   "outputs": [
    {
     "data": {
      "text/plain": [
       "3.245277856980764e-11"
      ]
     },
     "execution_count": 65,
     "metadata": {},
     "output_type": "execute_result"
    }
   ],
   "source": [
    "# t-test\n",
    "from scipy.stats import ttest_ind\n",
    "_, pvalue = ttest_ind(female_subj, male_subj, equal_var=True)\n",
    "pvalue"
   ]
  },
  {
   "cell_type": "code",
   "execution_count": 66,
   "id": "e4f170eb",
   "metadata": {},
   "outputs": [
    {
     "data": {
      "text/plain": [
       "True"
      ]
     },
     "execution_count": 66,
     "metadata": {},
     "output_type": "execute_result"
    }
   ],
   "source": [
    "# 1인칭 대명사 주격 사용 비율은 성별에 따라 통계적으로 유의미하게 차이가 있다 \n",
    "pvalue < 0.01"
   ]
  },
  {
   "cell_type": "markdown",
   "id": "634dad15",
   "metadata": {},
   "source": [
    "### (2) 성별에 따른 1인칭 대명사 목적격 사용 비교 "
   ]
  },
  {
   "cell_type": "code",
   "execution_count": 56,
   "id": "6f4a3800",
   "metadata": {},
   "outputs": [
    {
     "data": {
      "text/plain": [
       "gender\n",
       "남    0.331707\n",
       "여    0.394030\n",
       "Name: obj_ratio, dtype: float64"
      ]
     },
     "execution_count": 56,
     "metadata": {},
     "output_type": "execute_result"
    }
   ],
   "source": [
    "# 샘플링된 데이터에서 성별에 따른 1인칭 대명사 목적격 사용 비율의 평균 \n",
    "sampled_df.groupby('gender')['obj_ratio'].mean()"
   ]
  },
  {
   "cell_type": "code",
   "execution_count": 67,
   "id": "fc98abd4",
   "metadata": {},
   "outputs": [],
   "source": [
    "female_obj = sampled_df.query('gender==\"여\"').obj_ratio.tolist()\n",
    "male_obj = sampled_df.query('gender==\"남\"').obj_ratio.tolist()"
   ]
  },
  {
   "cell_type": "code",
   "execution_count": 68,
   "id": "e0fd26ce",
   "metadata": {},
   "outputs": [],
   "source": [
    "# 표본 개수가 3000개이므로 정규성 검정은 패스 "
   ]
  },
  {
   "cell_type": "code",
   "execution_count": 69,
   "id": "852d2b52",
   "metadata": {},
   "outputs": [
    {
     "name": "stdout",
     "output_type": "stream",
     "text": [
      "LeveneResult(statistic=58.817929253687254, pvalue=2.005676601086402e-14)\n",
      "BartlettResult(statistic=17.31644444289048, pvalue=3.164366052655011e-05)\n"
     ]
    }
   ],
   "source": [
    "# 등분산성 확인\n",
    "from scipy.stats import levene\n",
    "print(levene(female_obj, male_obj))\n",
    "\n",
    "from scipy.stats import bartlett\n",
    "print(bartlett(female_obj, male_obj))\n",
    "\n",
    "# p-value가 0.05보다 작아서 등분산성이 있다고 할 수 없다."
   ]
  },
  {
   "cell_type": "code",
   "execution_count": 73,
   "id": "3685f22b",
   "metadata": {},
   "outputs": [
    {
     "data": {
      "text/plain": [
       "3.3785913481969937e-10"
      ]
     },
     "execution_count": 73,
     "metadata": {},
     "output_type": "execute_result"
    }
   ],
   "source": [
    "# t-test\n",
    "from scipy.stats import ttest_ind\n",
    "_, pvalue = ttest_ind(female_obj, male_obj, equal_var=False)\n",
    "pvalue"
   ]
  },
  {
   "cell_type": "code",
   "execution_count": 74,
   "id": "7723e5ef",
   "metadata": {},
   "outputs": [
    {
     "data": {
      "text/plain": [
       "True"
      ]
     },
     "execution_count": 74,
     "metadata": {},
     "output_type": "execute_result"
    }
   ],
   "source": [
    "# 1인칭 대명사 목적격 사용 비율은 성별에 따라 통계적으로 유의미하게 차이가 있다 \n",
    "pvalue < 0.01"
   ]
  },
  {
   "cell_type": "code",
   "execution_count": null,
   "id": "0eea4049",
   "metadata": {},
   "outputs": [],
   "source": []
  }
 ],
 "metadata": {
  "kernelspec": {
   "display_name": "Python 3 (ipykernel)",
   "language": "python",
   "name": "python3"
  },
  "language_info": {
   "codemirror_mode": {
    "name": "ipython",
    "version": 3
   },
   "file_extension": ".py",
   "mimetype": "text/x-python",
   "name": "python",
   "nbconvert_exporter": "python",
   "pygments_lexer": "ipython3",
   "version": "3.9.7"
  }
 },
 "nbformat": 4,
 "nbformat_minor": 5
}
